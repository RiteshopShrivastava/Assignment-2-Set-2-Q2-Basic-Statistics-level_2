{
  "nbformat": 4,
  "nbformat_minor": 0,
  "metadata": {
    "colab": {
      "name": "Assignment-2-Set-2-Q2 (Basic-Statistics-level_2).ipynb",
      "provenance": [],
      "collapsed_sections": [],
      "authorship_tag": "ABX9TyNskRBT4MVp1l9JcrVcKYWU",
      "include_colab_link": true
    },
    "kernelspec": {
      "name": "python3",
      "display_name": "Python 3"
    },
    "language_info": {
      "name": "python"
    }
  },
  "cells": [
    {
      "cell_type": "markdown",
      "metadata": {
        "id": "view-in-github",
        "colab_type": "text"
      },
      "source": [
        "<a href=\"https://colab.research.google.com/github/RiteshopShrivastava/Assignment-2-Set-2-Q2-Basic-Statistics-level_2/blob/main/Assignment_2_Set_2_Q2_(Basic_Statistics_level_2).ipynb\" target=\"_parent\"><img src=\"https://colab.research.google.com/assets/colab-badge.svg\" alt=\"Open In Colab\"/></a>"
      ]
    },
    {
      "cell_type": "markdown",
      "metadata": {
        "id": "g8P63IBExEUL"
      },
      "source": [
        "The current age (in years) of 400 clerical employees at an insurance claims processing center is normally distributed with mean  = 38 and Standard deviation  =6. For each statement below, please specify True/False. If false, briefly explain why.\n",
        "\n",
        "A.\tMore employees at the processing center are older than 44 than between 38 and 44.\n",
        "\n",
        "B.\tA training program for employees under the age of 30 at the center would be expected to attract about 36 employees.\n"
      ]
    },
    {
      "cell_type": "code",
      "metadata": {
        "id": "Qt4npmIir9Rz"
      },
      "source": [
        "from scipy import stats"
      ],
      "execution_count": 16,
      "outputs": []
    },
    {
      "cell_type": "code",
      "metadata": {
        "colab": {
          "base_uri": "https://localhost:8080/"
        },
        "id": "LtEokZsGqHDx",
        "outputId": "7e79c17b-e0cd-4357-ff9d-ebb95a811c44"
      },
      "source": [
        "# Prob of Employees in between 38 to 44 Prob(38<X<44) = Prob(x<44)-Prob(x<38)\n",
        "Prob1 = stats.norm.cdf(44,loc= 38, scale =6)- stats.norm.cdf(38,loc= 38, scale =6)   \n",
        "Prob1"
      ],
      "execution_count": 17,
      "outputs": [
        {
          "output_type": "execute_result",
          "data": {
            "text/plain": [
              "0.3413447460685429"
            ]
          },
          "metadata": {
            "tags": []
          },
          "execution_count": 17
        }
      ]
    },
    {
      "cell_type": "code",
      "metadata": {
        "colab": {
          "base_uri": "https://localhost:8080/"
        },
        "id": "huJw01XasG2P",
        "outputId": "87a9b8a3-324c-4663-bc28-8a7401d8c4ad"
      },
      "source": [
        "# Prob of Employees older than 44 years\n",
        "Prob2 = 1- stats.norm.cdf(44,38,6)\n",
        "Prob2\n"
      ],
      "execution_count": 18,
      "outputs": [
        {
          "output_type": "execute_result",
          "data": {
            "text/plain": [
              "0.15865525393145707"
            ]
          },
          "metadata": {
            "tags": []
          },
          "execution_count": 18
        }
      ]
    },
    {
      "cell_type": "markdown",
      "metadata": {
        "id": "C6mCsH10u7Yv"
      },
      "source": [
        "Inference: From above, statement A is False as Probability of employees aged between 38 to 44 is more"
      ]
    },
    {
      "cell_type": "code",
      "metadata": {
        "colab": {
          "base_uri": "https://localhost:8080/"
        },
        "id": "i-Do55cesG5g",
        "outputId": "8efb7a26-e274-49be-fa20-5828aef50bf3"
      },
      "source": [
        "# Prob of Employees under age of 30\n",
        "Prob4 = stats.norm.cdf(30,38,6)\n",
        "Prob4 "
      ],
      "execution_count": 19,
      "outputs": [
        {
          "output_type": "execute_result",
          "data": {
            "text/plain": [
              "0.09121121972586788"
            ]
          },
          "metadata": {
            "tags": []
          },
          "execution_count": 19
        }
      ]
    },
    {
      "cell_type": "code",
      "metadata": {
        "colab": {
          "base_uri": "https://localhost:8080/"
        },
        "id": "6mGv-kPBsG7h",
        "outputId": "8773f802-7c74-425c-feb1-3353777869a0"
      },
      "source": [
        "# Expected no. of employees attending traning program N*P(X<30)\n",
        "400*stats.norm.cdf(30,38,6)"
      ],
      "execution_count": 20,
      "outputs": [
        {
          "output_type": "execute_result",
          "data": {
            "text/plain": [
              "36.484487890347154"
            ]
          },
          "metadata": {
            "tags": []
          },
          "execution_count": 20
        }
      ]
    },
    {
      "cell_type": "markdown",
      "metadata": {
        "id": "DPggt8WtwrwA"
      },
      "source": [
        "Inference : From above, statement B is true, as approx. 36 employees under the age of 30 are attracted towards training program"
      ]
    },
    {
      "cell_type": "code",
      "metadata": {
        "id": "WZ7I88P6sG-9"
      },
      "source": [
        ""
      ],
      "execution_count": null,
      "outputs": []
    }
  ]
}